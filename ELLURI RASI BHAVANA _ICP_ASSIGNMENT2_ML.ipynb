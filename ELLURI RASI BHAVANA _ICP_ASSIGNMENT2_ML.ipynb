{
 "cells": [
  {
   "cell_type": "code",
   "execution_count": 25,
   "metadata": {
    "colab": {
     "base_uri": "https://localhost:8080/"
    },
    "id": "MGVirjxKtNeI",
    "outputId": "fc019e53-c74b-49ef-d326-e7e3e702e10d"
   },
   "outputs": [
    {
     "name": "stdout",
     "output_type": "stream",
     "text": [
      "\n",
      "* \n",
      "* * \n",
      "* * * \n",
      "* * * * \n",
      "* * * * * \n",
      "* * * * \n",
      "* * * \n",
      "* * \n",
      "* \n"
     ]
    }
   ],
   "source": [
    "# 1. Use a python code to display the following star pattern using the for loop\n",
    "# * \n",
    "# * * \n",
    "# * * * \n",
    "# * * * * \n",
    "# * * * * * \n",
    "# * * * * \n",
    "# * * * \n",
    "# * * \n",
    "# * \n",
    "\n",
    "\n",
    "for i in range(0,5):\n",
    "    print(\"* \" *i)\n",
    "for j in range(5,0,-1):\n",
    "    print(\"* \" *j)\n"
   ]
  },
  {
   "cell_type": "code",
   "execution_count": null,
   "metadata": {
    "colab": {
     "base_uri": "https://localhost:8080/"
    },
    "id": "JmHDzIyXuSWX",
    "outputId": "d1467a36-ac5d-478b-a4b9-1bab63440721"
   },
   "outputs": [
    {
     "name": "stdout",
     "output_type": "stream",
     "text": [
      "20\n",
      "40\n",
      "60\n",
      "80\n",
      "100\n"
     ]
    }
   ],
   "source": [
    "# 2. Use looping to output the elements from a provided list present at odd indexes.\n",
    "# my_list = [10, 20, 30, 40, 50, 60, 70, 80, 90, 100]\n",
    "\n",
    "my_list = [10, 20, 30, 40, 50, 60, 70, 80, 90, 100]\n",
    "for index in range(1, len(my_list), 2):\n",
    "    print(my_list[index])\n",
    "\n",
    "\n"
   ]
  },
  {
   "cell_type": "code",
   "execution_count": null,
   "metadata": {
    "colab": {
     "base_uri": "https://localhost:8080/"
    },
    "id": "9u-6pyqkuosR",
    "outputId": "53b211c4-829e-4e89-a141-8c45bd0a8666"
   },
   "outputs": [
    {
     "name": "stdout",
     "output_type": "stream",
     "text": [
      "[23, 'Python', 23.98]\n",
      "[<class 'int'>, <class 'str'>, <class 'float'>]\n"
     ]
    }
   ],
   "source": [
    "# 3. Write a code that appends the type of elements from a given list.\n",
    "# Input\n",
    "#  x = [23, ‘Python’, 23.98]\n",
    "#  Expected output\n",
    "#  [23, 'Python', 23.98]\n",
    "#  [<class 'int'>, <class 'str'>, <class 'float'>]\n",
    "\n",
    "x = [23, 'Python', 23.98]\n",
    "\n",
    "types = []\n",
    "\n",
    "for i in x:\n",
    "    types.append(type(i))\n",
    "\n",
    "print(x)\n",
    "print(types)\n"
   ]
  },
  {
   "cell_type": "code",
   "execution_count": 23,
   "metadata": {
    "colab": {
     "base_uri": "https://localhost:8080/"
    },
    "id": "54lNEmJQvXgj",
    "outputId": "24548045-16c5-47d8-be5a-9817675ff87e"
   },
   "outputs": [
    {
     "name": "stdout",
     "output_type": "stream",
     "text": [
      "Unique list: [1, 2, 3, 4, 5]\n"
     ]
    }
   ],
   "source": [
    "# 4. Write a function that takes a list and returns a new list with unique items of the first list.\n",
    "# Sample List: [1,2,3,3,3,3,4,5]\n",
    "# Unique List: [1, 2, 3, 4, 5]\n",
    "\n",
    "\n",
    "def unique_list(sample_list):\n",
    "  return list(set(sample_list))\n",
    "\n",
    "sample_list = [1,2,3,3,3,3,4,5]\n",
    "print(\"Unique list:\", unique_list(sample_list))\n",
    "\n",
    "\n",
    "\n",
    "\n"
   ]
  },
  {
   "cell_type": "code",
   "execution_count": 4,
   "metadata": {
    "colab": {
     "base_uri": "https://localhost:8080/"
    },
    "id": "-gOVx4aKv5rA",
    "outputId": "b5854302-d30c-4cff-aed8-4c284c9a7599"
   },
   "outputs": [
    {
     "name": "stdout",
     "output_type": "stream",
     "text": [
      "No. of Upper-case characters: 3\n",
      "No. of Lower-case characters: 12\n"
     ]
    }
   ],
   "source": [
    "# 5. Write a function that accepts a string and calculate the number of upper-case letters and lower-case\n",
    "# letters. \n",
    "# Input String: 'The quick Brow Fox'\n",
    "# Expected Output:\n",
    "# No. of Upper-case characters: 3\n",
    "# No. of Lower-case Characters: 12\n",
    "\n",
    "def calculate_the_case(string):\n",
    "    upper_case = 0\n",
    "    lower_case = 0\n",
    "    for char in string:\n",
    "        if char.isupper():\n",
    "            upper_case += 1\n",
    "        elif char.islower():\n",
    "            lower_case += 1\n",
    "    return \"No. of Upper-case characters: \" + str(upper_case) + \"\\n\" + \"No. of Lower-case characters: \" + str(lower_case)\n",
    "\n",
    "print(calculate_the_case(\"The quick Brow Fox\"))\n"
   ]
  }
 ],
 "metadata": {
  "colab": {
   "provenance": []
  },
  "kernelspec": {
   "display_name": "Python 3 (ipykernel)",
   "language": "python",
   "name": "python3"
  },
  "language_info": {
   "codemirror_mode": {
    "name": "ipython",
    "version": 3
   },
   "file_extension": ".py",
   "mimetype": "text/x-python",
   "name": "python",
   "nbconvert_exporter": "python",
   "pygments_lexer": "ipython3",
   "version": "3.9.13"
  }
 },
 "nbformat": 4,
 "nbformat_minor": 1
}
