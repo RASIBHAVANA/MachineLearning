{
 "cells": [
  {
   "cell_type": "markdown",
   "id": "0d410636",
   "metadata": {},
   "source": [
    "# Question01"
   ]
  },
  {
   "cell_type": "code",
   "execution_count": 1,
   "id": "00012565",
   "metadata": {},
   "outputs": [],
   "source": [
    "# The following is a list of 10 students ages:\n",
    "# ages = [19, 22, 19, 24, 20, 25, 26, 24, 25, 24]\n",
    "# • Sort the list and find the min and max age\n",
    "# • Add the min age and the max age again to the list\n",
    "# • Find the median age (one middle item or two middle items divided by two)\n",
    "# • Find the average age (sum of all items divided by their number)\n",
    "# • Find the range of the ages (max minus min)\n",
    "\n",
    "#creating a list\n",
    "ages = [19, 22, 19, 24, 20, 25, 26, 24, 25, 24]\n"
   ]
  },
  {
   "cell_type": "code",
   "execution_count": 2,
   "id": "1956db02",
   "metadata": {},
   "outputs": [
    {
     "name": "stdout",
     "output_type": "stream",
     "text": [
      " Given list: [19, 19, 20, 22, 24, 24, 24, 25, 25, 26]\n"
     ]
    }
   ],
   "source": [
    "ages.sort() #built-in sort\n",
    "print(f\" Given list: {ages}\") #sorted list"
   ]
  },
  {
   "cell_type": "code",
   "execution_count": 3,
   "id": "9cfcf732",
   "metadata": {},
   "outputs": [
    {
     "name": "stdout",
     "output_type": "stream",
     "text": [
      "max age: 26, min age: 19\n"
     ]
    }
   ],
   "source": [
    "print(f\"max age: {max(ages)}, min age: {min(ages)}\") #min and max age"
   ]
  },
  {
   "cell_type": "code",
   "execution_count": 4,
   "id": "4714bf64",
   "metadata": {},
   "outputs": [
    {
     "name": "stdout",
     "output_type": "stream",
     "text": [
      "New list: [19, 19, 20, 22, 24, 24, 24, 25, 25, 26, 19, 26]\n"
     ]
    }
   ],
   "source": [
    "ages.extend([min(ages),max(ages)]) #add the max and min ages back to the list\n",
    "print(f\"New list: {ages}\") #print the list after new additions\n"
   ]
  },
  {
   "cell_type": "code",
   "execution_count": 5,
   "id": "7dc92781",
   "metadata": {},
   "outputs": [
    {
     "name": "stdout",
     "output_type": "stream",
     "text": [
      "6\n",
      "The median of ages: 24\n"
     ]
    }
   ],
   "source": [
    "#median\n",
    "middle = int(len(ages)/2) #find middle index in the list\n",
    "print(middle)\n",
    "if middle % 2 == 0:    #find if its even\n",
    "    print(f\"The median of ages: {int((ages[middle-1]  + ages[middle] )/ 2)}\")"
   ]
  },
  {
   "cell_type": "code",
   "execution_count": 6,
   "id": "c5569940",
   "metadata": {},
   "outputs": [
    {
     "name": "stdout",
     "output_type": "stream",
     "text": [
      "The average of ages: 22.75\n"
     ]
    }
   ],
   "source": [
    "#average age\n",
    "print(f\"The average of ages: {sum(ages)/len(ages)}\")"
   ]
  },
  {
   "cell_type": "code",
   "execution_count": 7,
   "id": "7386ebb4",
   "metadata": {},
   "outputs": [
    {
     "name": "stdout",
     "output_type": "stream",
     "text": [
      "Range of the ages: 7\n"
     ]
    }
   ],
   "source": [
    "#range\n",
    "print(f\"Range of the ages: {max(ages) - min(ages)}\")"
   ]
  },
  {
   "cell_type": "markdown",
   "id": "d8f4e0bd",
   "metadata": {},
   "source": [
    "# Question2"
   ]
  },
  {
   "cell_type": "code",
   "execution_count": 8,
   "id": "dea9971c",
   "metadata": {},
   "outputs": [],
   "source": [
    "# program2\n",
    "# (a)Create an empty dictionary called dog\n",
    "# (b) Add name, color, breed, legs, age to the dog dictionary\n",
    "# (c) Create a student dictionary and add first_name, last_name, gender, age, marital status,\n",
    "# skills, country, city and address as keys for the dictionary\n",
    "#     (d) Get the length of the student dictionary\n",
    "# (e) Get the value of skills and check the data type, it should be a list\n",
    "# (f) Modify the skills values by adding one or two skills\n",
    "# (g)Get the dictionary keys as a list\n",
    "# (h)Get the dictionary values as a list\n",
    "\n",
    "#empty dictionary with name dog\n",
    "dog = {}"
   ]
  },
  {
   "cell_type": "code",
   "execution_count": 9,
   "id": "e794b042",
   "metadata": {},
   "outputs": [],
   "source": [
    "#adding key value pairs to the dog dictionary\n",
    "dog = {'name':'Max', 'color':'white black', 'breed':'husky', 'legs':'4', 'age':'6'}\n"
   ]
  },
  {
   "cell_type": "code",
   "execution_count": 11,
   "id": "68d5b2ec",
   "metadata": {},
   "outputs": [],
   "source": [
    "#student dictionary\n",
    "student = {'first_name':'Bhavya', 'last_name': 'Elluri', 'gender':'female', 'age': '25', 'marital_status':'single',\n",
    "           'skills':['coding'], 'country': 'India', 'city':'Narasaraopet', 'address':'8217'}"
   ]
  },
  {
   "cell_type": "code",
   "execution_count": 12,
   "id": "a90d42ed",
   "metadata": {},
   "outputs": [
    {
     "name": "stdout",
     "output_type": "stream",
     "text": [
      "length of the  student dictionary: 9\n"
     ]
    }
   ],
   "source": [
    "#length of student dictionary\n",
    "print(f\"length of the  student dictionary: {len(student)}\")"
   ]
  },
  {
   "cell_type": "code",
   "execution_count": 13,
   "id": "d0bc911a",
   "metadata": {},
   "outputs": [
    {
     "name": "stdout",
     "output_type": "stream",
     "text": [
      "<class 'list'>\n"
     ]
    }
   ],
   "source": [
    "#getting value of skills and checking datatype\n",
    "print(type(student['skills']))"
   ]
  },
  {
   "cell_type": "code",
   "execution_count": 14,
   "id": "dfebb076",
   "metadata": {},
   "outputs": [
    {
     "name": "stdout",
     "output_type": "stream",
     "text": [
      "['coding', 'Eating', 'reading', 'Sleeping']\n"
     ]
    }
   ],
   "source": [
    "#modifying skills\n",
    "student['skills'].extend(['Eating', 'reading','Sleeping'])\n",
    "print(student['skills'])"
   ]
  },
  {
   "cell_type": "code",
   "execution_count": 15,
   "id": "8f363b96",
   "metadata": {},
   "outputs": [
    {
     "name": "stdout",
     "output_type": "stream",
     "text": [
      "keys of student dictionary:dict_keys(['first_name', 'last_name', 'gender', 'age', 'marital_status', 'skills', 'country', 'city', 'address'])\n",
      "values of student dictionary: dict_values(['Bhavya', 'Elluri', 'female', '25', 'single', ['coding', 'Eating', 'reading', 'Sleeping'], 'India', 'Narasaraopet', '8217'])\n"
     ]
    }
   ],
   "source": [
    "#printing keys and values\n",
    "print(f\"keys of student dictionary:{student.keys()}\")\n",
    "print(f\"values of student dictionary: {student.values()}\")"
   ]
  },
  {
   "cell_type": "markdown",
   "id": "d146bfbd",
   "metadata": {},
   "source": [
    "# Question3"
   ]
  },
  {
   "cell_type": "code",
   "execution_count": 30,
   "id": "8276805f",
   "metadata": {},
   "outputs": [
    {
     "name": "stdout",
     "output_type": "stream",
     "text": [
      "Number of siblings:  10\n",
      "('Ramya', 'Bhavya', 'Divya', 'Bhargavi', 'Namaratha', 'Hemal', 'Sai', 'Haryanth', 'Lucky', 'Pavan', 'Peddi', 'Padmavathi')\n"
     ]
    }
   ],
   "source": [
    "# Create a tuple containing names of your sisters and your brothers (imaginary siblings are\n",
    "# fine)\n",
    "# • Join brothers and sisters tuples and assign it to siblings\n",
    "# • How many siblings do you have?\n",
    "# • Modify the siblings tuple and add the name of your father and mother and assign it to\n",
    "# family_members\n",
    "\n",
    "\n",
    "#sister and brother tuple\n",
    "sister = ('Ramya', 'Bhavya', 'Divya', 'Bhargavi', 'Namaratha')\n",
    "brother = ('Hemal', 'Sai', 'Haryanth', 'Lucky', 'Pavan')\n",
    "#join brothers and sisters tuples and assign it to siblings\n",
    "siblings = sister + brother\n",
    "#count of siblings\n",
    "print(\"Number of siblings: \",len(siblings))\n",
    "#modify tuple with father and mother\n",
    "father_mother = (\"Peddi\",\"Padmavathi\")\n",
    "siblings =siblings + father_mother\n",
    "\n",
    "family_members = siblings\n",
    "print(family_members)\n"
   ]
  },
  {
   "cell_type": "markdown",
   "id": "dcb4cf63",
   "metadata": {},
   "source": [
    "# Question4"
   ]
  },
  {
   "cell_type": "code",
   "execution_count": 34,
   "id": "3dca53ce",
   "metadata": {},
   "outputs": [
    {
     "name": "stdout",
     "output_type": "stream",
     "text": [
      "length of IT compaines: 7\n",
      "add Twitter: {'IBM', 'Facebook', 'Oracle', 'Twitter', 'Microsoft', 'Google', 'Amazon', 'Apple'}\n",
      "updated IT companies:{'IBM', 'accenture', 'Microsoft', 'Oracle', 'Google', 'Twitter', 'Amazon', 'TCS', 'Facebook', 'Honeywell', 'Apple'}\n",
      "remove a company:{'IBM', 'Microsoft', 'Oracle', 'Google', 'Twitter', 'Amazon', 'TCS', 'Facebook', 'Honeywell', 'Apple'}\n",
      "discard a company:{'IBM', 'Microsoft', 'Oracle', 'Google', 'Twitter', 'Amazon', 'Facebook', 'Honeywell', 'Apple'}\n",
      "join A AND B:{19, 20, 22, 24, 25, 26, 27, 28}\n",
      "intersection A AND B:{19, 20, 22, 24, 25, 26}\n",
      "if A is subset of B:True\n",
      "if disjoint set:False\n",
      "{19, 20, 22, 24, 25, 26, 27, 28}\n",
      "{19, 20, 22, 24, 25, 26, 27, 28}\n",
      "symmetric difference:set()\n",
      "symmetric difference of initial set: a  {27, 28}\n",
      "The length of the list age:8\n",
      "The length of the set age:5\n"
     ]
    }
   ],
   "source": [
    "# it_companies = {'Facebook', 'Google', 'Microsoft', 'Apple', 'IBM', 'Oracle', 'Amazon'}\n",
    "# A = {19, 22, 24, 20, 25, 26}\n",
    "# B = {19, 22, 20, 25, 26, 24, 28, 27}\n",
    "# age = [22, 19, 24, 25, 26, 24, 25, 24]\n",
    "# • Find the length of the set it_companies\n",
    "# • Add 'Twitter' to it_companies\n",
    "# • Insert multiple IT companies at once to the set it_companies\n",
    "# • Remove one of the companies from the set it_companies\n",
    "# • What is the difference between remove and discard\n",
    "# • Join A and B\n",
    "# • Find A intersection B\n",
    "# • Is A subset of B\n",
    "# • Are A and B disjoint sets\n",
    "# • Join A with B and B with A\n",
    "# • What is the symmetric difference between A and B\n",
    "# • Delete the sets completely\n",
    "# • Convert the ages to a set and compare the length of the list and the set.\n",
    "\n",
    "\n",
    "\n",
    "it_companies = {'Facebook', 'Google', 'Microsoft', 'Apple', 'IBM', 'Oracle', 'Amazon'}\n",
    "A = {19, 22, 24, 20, 25, 26}\n",
    "B = {19, 22, 20, 25, 26, 24, 28, 27}\n",
    "age = [22, 19, 24, 25, 26, 24, 25, 24]\n",
    "\n",
    "#Find the length of the set it_companies\n",
    "print(f\"length of IT compaines: {len(it_companies)}\")\n",
    "\n",
    "#add twitter\n",
    "it_companies.add('Twitter')\n",
    "print(f\"add Twitter: {it_companies}\")\n",
    "\n",
    "#multiple IT companies\n",
    "it_companies.update(['TCS', 'accenture', 'Honeywell'])\n",
    "print(f\"updated IT companies:{it_companies}\")\n",
    "\n",
    "#remove\n",
    "it_companies.remove('accenture')\n",
    "print(f\"remove a company:{it_companies}\")\n",
    "\n",
    "#discard\n",
    "it_companies.discard('TCS')\n",
    "print(f\"discard a company:{it_companies}\")\n",
    "\n",
    "#remove() raises key error if element is not found whereas\n",
    "#discard doesn't raise an error\n",
    "\n",
    "\n",
    "#join A and B\n",
    "print(f\"join A AND B:{A | B}\")\n",
    "\n",
    "#intersection of A and B\n",
    "print(f\"intersection A AND B:{A & B}\")\n",
    "\n",
    "#subset\n",
    "print(f\"if A is subset of B:{A.issubset(B)}\")\n",
    "\n",
    "#Are A and B disjoint sets\n",
    "print(f\"if disjoint set:{A.isdisjoint(B)}\") #disjoint means no elements in common\n",
    "\n",
    "# • Join A with B and B with A\n",
    "A.update(B)\n",
    "print(A)\n",
    "\n",
    "B.update(A)\n",
    "print(B)\n",
    "\n",
    "#symmetric difference\n",
    "print(f\"symmetric difference:{A.symmetric_difference(B)}\")\n",
    "\n",
    "A = {19, 22, 24, 20, 25, 26}\n",
    "B = {19, 22, 20, 25, 26, 24, 28, 27}\n",
    "print(f\"symmetric difference of initial set: a  {A.symmetric_difference(B)}\")\n",
    "\n",
    "\n",
    "#delete set\n",
    "A.clear()\n",
    "B.clear()\n",
    "\n",
    "#Convert the ages to a set and compare the length of the list and the set.\n",
    "print(f\"The length of the list age:{len(age)}\")\n",
    "\n",
    "age = set(age)\n",
    "print(f\"The length of the set age:{len(age)}\")"
   ]
  },
  {
   "cell_type": "markdown",
   "id": "9308af49",
   "metadata": {},
   "source": [
    "# Question5"
   ]
  },
  {
   "cell_type": "code",
   "execution_count": 35,
   "id": "d70aaa80",
   "metadata": {},
   "outputs": [
    {
     "name": "stdout",
     "output_type": "stream",
     "text": [
      "The area of circle with radius 30 is 2827.43\n",
      "The circumference of circle with radius 30 is 188.5\n",
      "enter radius of your choice:3\n",
      "The area of circle with radius 3.0 is 28.27\n"
     ]
    }
   ],
   "source": [
    "# The radius of a circle is 30 meters.\n",
    "# • Calculate the area of a circle and assign the value to a variable name of _area_of_circle_\n",
    "# • Calculate the circumference of a circle and assign the value to a variable name of\n",
    "# _circum_of_circle_\n",
    "# • Take radius as user input and calculate the area\n",
    "\n",
    "import math\n",
    "\n",
    "#declaring radius\n",
    "radius = 30\n",
    "\n",
    "#calculate area\n",
    "_area_of_circle = math.pi * radius * radius\n",
    "print(f\"The area of circle with radius 30 is {round(_area_of_circle,2)}\")\n",
    "\n",
    "#circumference of a circle\n",
    "_circum_of_circle_ = 2 * math.pi * radius\n",
    "print(f\"The circumference of circle with radius 30 is {round(_circum_of_circle_,2)}\")\n",
    "\n",
    "#taking radius as user input\n",
    "r = float(input(\"enter radius of your choice:\"))\n",
    "print(f\"The area of circle with radius {r} is {round(math.pi * r * r,2)}\")\n"
   ]
  },
  {
   "cell_type": "markdown",
   "id": "e09b7861",
   "metadata": {},
   "source": [
    "# Question6"
   ]
  },
  {
   "cell_type": "code",
   "execution_count": 36,
   "id": "5eaa1f89",
   "metadata": {},
   "outputs": [
    {
     "name": "stdout",
     "output_type": "stream",
     "text": [
      "['I', 'am', 'a', 'teacher', 'and', 'I', 'love', 'to', 'inspire', 'and', 'teach', 'people']\n",
      "number of unique words in the given string is:10\n"
     ]
    }
   ],
   "source": [
    "\n",
    "# “I am a teacher and I love to inspire and teach people”\n",
    "# • How many unique words have been used in the sentence? Use the split methods and set\n",
    "# to get the unique words.\n",
    "\n",
    "string = \"I am a teacher and I love to inspire and teach people\"\n",
    "list = string.split(' ')\n",
    "print(list)\n",
    "\n",
    "unique_count = len(set(list))\n",
    "print(f\"number of unique words in the given string is:{unique_count}\")"
   ]
  },
  {
   "cell_type": "markdown",
   "id": "f78caf3d",
   "metadata": {},
   "source": [
    "# Question7"
   ]
  },
  {
   "cell_type": "code",
   "execution_count": 42,
   "id": "7c13e087",
   "metadata": {},
   "outputs": [
    {
     "name": "stdout",
     "output_type": "stream",
     "text": [
      "Name \t\t Age \t Country \t City\n",
      "Asabeneh \t 250 \t Finland \t Helsinki\n"
     ]
    }
   ],
   "source": [
    "# Use a tab escape sequence to get the following lines.\n",
    "# Name Age Country City\n",
    "# Asabeneh 250 Finland Helsinki\n",
    "\n",
    "print(\"Name \\t\\t Age \\t Country \\t City\")\n",
    "print(\"Asabeneh \\t 250 \\t Finland \\t Helsinki\")"
   ]
  },
  {
   "cell_type": "markdown",
   "id": "6ef5a885",
   "metadata": {},
   "source": [
    "# Question8"
   ]
  },
  {
   "cell_type": "code",
   "execution_count": 38,
   "id": "b23dead5",
   "metadata": {},
   "outputs": [
    {
     "name": "stdout",
     "output_type": "stream",
     "text": [
      "The area of a circle with radius 10 is 314.0 meters square.\n"
     ]
    }
   ],
   "source": [
    "# Use the string formatting method to display the following:\n",
    "# radius = 10\n",
    "# area = 3.14 * radius ** 2\n",
    "# “The area of a circle with radius 10 is 314 meters square.”\n",
    "\n",
    "radius = 10\n",
    "area = 3.14 * radius ** 2\n",
    "\n",
    "print(f\"The area of a circle with radius {radius} is {area} meters square.\")"
   ]
  },
  {
   "cell_type": "markdown",
   "id": "73974878",
   "metadata": {},
   "source": [
    "# Question9"
   ]
  },
  {
   "cell_type": "code",
   "execution_count": 39,
   "id": "b036d807",
   "metadata": {},
   "outputs": [
    {
     "name": "stdout",
     "output_type": "stream",
     "text": [
      "weight in kgs: [68.04, 70.31, 65.77, 67.13, 54.43, 58.97, 45.36]\n"
     ]
    }
   ],
   "source": [
    "# Write a program, which reads weights (lbs.) of N students into a list and convert these weights to\n",
    "# kilograms in a separate list using Loop. N: No of students (Read input from user)\n",
    "# Ex: L1: [150, 155, 145, 148]\n",
    "# Output: [68.03, 70.3, 65.77, 67.13]\n",
    "\n",
    "#list of students weights\n",
    "in_lbs =  [150, 155, 145, 148, 120, 130, 100]\n",
    "\n",
    "in_kgs = []\n",
    "#converting weight to kgs\n",
    "for x in in_lbs:\n",
    "    in_kgs.append(round(x * 0.45359237,2))\n",
    "\n",
    "print(f\"weight in kgs: {in_kgs}\")"
   ]
  },
  {
   "cell_type": "markdown",
   "id": "253feb5a",
   "metadata": {},
   "source": [
    "# Question10"
   ]
  },
  {
   "cell_type": "code",
   "execution_count": 44,
   "id": "c3b799bb",
   "metadata": {},
   "outputs": [],
   "source": [
    "feature = [1,2,3,6,6,7,10,11]\n",
    "classes = [0,0,1,1,1,0,0,0]\n"
   ]
  },
  {
   "cell_type": "code",
   "execution_count": 45,
   "id": "35c7cfb2",
   "metadata": {},
   "outputs": [],
   "source": [
    "mid = len(feature)//2\n",
    "train_feature, train_label = feature[0:mid],classes[0:mid]\n",
    "test_feature, test_label = feature[mid:],classes[mid:]"
   ]
  },
  {
   "cell_type": "code",
   "execution_count": 46,
   "id": "259a4dc8",
   "metadata": {},
   "outputs": [],
   "source": [
    "import numpy as np\n",
    "from sklearn.neighbors import KNeighborsClassifier\n",
    "from sklearn.metrics import confusion_matrix"
   ]
  },
  {
   "cell_type": "code",
   "execution_count": 47,
   "id": "6f177ce6",
   "metadata": {},
   "outputs": [
    {
     "name": "stderr",
     "output_type": "stream",
     "text": [
      "C:\\Users\\rasib\\anaconda3\\lib\\site-packages\\sklearn\\neighbors\\_classification.py:228: FutureWarning: Unlike other reduction functions (e.g. `skew`, `kurtosis`), the default behavior of `mode` typically preserves the axis it acts along. In SciPy 1.11.0, this behavior will change: the default value of `keepdims` will become False, the `axis` over which the statistic is taken will be eliminated, and the value None will no longer be accepted. Set `keepdims` to True or False to avoid this warning.\n",
      "  mode, _ = stats.mode(_y[neigh_ind, k], axis=1)\n"
     ]
    }
   ],
   "source": [
    "model = KNeighborsClassifier(n_neighbors=3)\n",
    "\n",
    "train_feature = np.array(train_feature).reshape((-1,1))\n",
    "model.fit(train_feature,train_label)\n",
    "\n",
    "test_feature = np.array(test_feature).reshape((-1,1))\n",
    "predicted = model.predict(test_feature)\n"
   ]
  },
  {
   "cell_type": "code",
   "execution_count": 48,
   "id": "1db540ba",
   "metadata": {},
   "outputs": [
    {
     "name": "stdout",
     "output_type": "stream",
     "text": [
      "Confusion Matrix : \n",
      " [[0 0]\n",
      " [3 1]]\n"
     ]
    }
   ],
   "source": [
    "print(\"Confusion Matrix : \\n\",confusion_matrix(predicted,test_label))\n",
    "cnf_matrix = confusion_matrix(predicted,test_label)\n",
    "\n",
    "TP = cnf_matrix[0][0]\n",
    "TN = cnf_matrix[1][1]\n",
    "\n",
    "FP = cnf_matrix[0][1]\n",
    "FN = cnf_matrix[1][0]\n"
   ]
  },
  {
   "cell_type": "code",
   "execution_count": 49,
   "id": "a3c07e59",
   "metadata": {},
   "outputs": [
    {
     "name": "stdout",
     "output_type": "stream",
     "text": [
      "Accuray :  0.25\n",
      "Sensitivity :  0.0\n",
      "Specificity :  1.0\n"
     ]
    }
   ],
   "source": [
    "accuracy = (TP + TN)/(TP+TN+FP+FN)\n",
    "print(\"Accuray : \",accuracy) \n",
    "\n",
    "sensitivity = TP/(TP + FN)\n",
    "print(\"Sensitivity : \",sensitivity) \n",
    "\n",
    "Specificity = TN/(TN+FP)\n",
    "print(\"Specificity : \",Specificity) "
   ]
  }
 ],
 "metadata": {
  "kernelspec": {
   "display_name": "Python 3 (ipykernel)",
   "language": "python",
   "name": "python3"
  },
  "language_info": {
   "codemirror_mode": {
    "name": "ipython",
    "version": 3
   },
   "file_extension": ".py",
   "mimetype": "text/x-python",
   "name": "python",
   "nbconvert_exporter": "python",
   "pygments_lexer": "ipython3",
   "version": "3.9.13"
  }
 },
 "nbformat": 4,
 "nbformat_minor": 5
}
